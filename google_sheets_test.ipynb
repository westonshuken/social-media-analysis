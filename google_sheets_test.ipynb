{
 "cells": [
  {
   "cell_type": "code",
   "execution_count": 21,
   "metadata": {},
   "outputs": [
    {
     "name": "stdout",
     "output_type": "stream",
     "text": [
      "Please visit this URL to authorize this application: https://accounts.google.com/o/oauth2/auth?response_type=code&client_id=447571264280-k88er80o9h6gt8eektd6hsgom5l0aot8.apps.googleusercontent.com&redirect_uri=http%3A%2F%2Flocalhost%3A55574%2F&scope=https%3A%2F%2Fwww.googleapis.com%2Fauth%2Fspreadsheets&state=J3bXzkLEtGXoyTzzemchIk7y36PUF6&access_type=offline\n"
     ]
    }
   ],
   "source": [
    "from google.oauth2.credentials import Credentials\n",
    "from google_auth_oauthlib.flow import InstalledAppFlow\n",
    "from googleapiclient.discovery import build\n",
    "import pandas as pd\n",
    "\n",
    "# Define the scope for full access to Google Sheets\n",
    "SCOPES = ['https://www.googleapis.com/auth/spreadsheets']\n",
    "\n",
    "# Path to the credentials file you downloaded\n",
    "CLIENT_SECRET_FILE = '.Secret/secret.json'\n",
    "\n",
    "# Step 1: Authentication flow for Desktop App\n",
    "def authenticate():\n",
    "    creds = None\n",
    "    # If there are no (valid) credentials available, go through the OAuth flow\n",
    "    flow = InstalledAppFlow.from_client_secrets_file(CLIENT_SECRET_FILE, SCOPES)\n",
    "    creds = flow.run_local_server(port=0)\n",
    "    return creds\n",
    "\n",
    "# Step 2: Authenticate and build the Sheets API client\n",
    "creds = authenticate()\n",
    "service = build('sheets', 'v4', credentials=creds)\n",
    "\n",
    "# Step 3: Use the Sheets API (Read or Write)\n",
    "SPREADSHEET_ID = '1kuSNIdEjBEV-MHUCWp4ck2zBMnuj-RHQara2B7qojS4'\n",
    "RANGE_NAME = 'Sheet1!A1:Q25'\n",
    "\n",
    "# Read data from the sheet\n",
    "sheet = service.spreadsheets()\n",
    "result = sheet.values().get(spreadsheetId=SPREADSHEET_ID, range=RANGE_NAME).execute()\n",
    "values = result.get('values', [])\n",
    "\n",
    "# Load data into pandas for manipulation\n",
    "if values:\n",
    "    df = pd.DataFrame(values[1:], columns=values[0])\n",
    "    df.insert(0, 'Test', 'Test')  # Add an index column\n",
    "\n",
    "    # Convert the updated DataFrame back to a list of lists and update the sheet\n",
    "    updated_values = [df.columns.tolist()] + df.values.tolist()\n",
    "    body = {'values': updated_values}\n",
    "\n",
    "    # Write back to the sheet\n",
    "    sheet.values().update(\n",
    "        spreadsheetId=SPREADSHEET_ID,\n",
    "        range=RANGE_NAME,\n",
    "        valueInputOption='RAW',\n",
    "        body=body\n",
    "    ).execute()\n"
   ]
  }
 ],
 "metadata": {
  "kernelspec": {
   "display_name": "usual",
   "language": "python",
   "name": "python3"
  },
  "language_info": {
   "codemirror_mode": {
    "name": "ipython",
    "version": 3
   },
   "file_extension": ".py",
   "mimetype": "text/x-python",
   "name": "python",
   "nbconvert_exporter": "python",
   "pygments_lexer": "ipython3",
   "version": "3.11.5"
  }
 },
 "nbformat": 4,
 "nbformat_minor": 2
}
